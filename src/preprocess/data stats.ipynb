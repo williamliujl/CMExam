{
 "cells": [
  {
   "cell_type": "code",
   "execution_count": 40,
   "id": "59dadc0a",
   "metadata": {},
   "outputs": [],
   "source": [
    "import pandas as pd\n",
    "\n",
    "train_df = pd.read_csv(\"../../data/train.csv\")\n",
    "dev_df = pd.read_csv(\"../../data/val.csv\")\n",
    "test_df = pd.read_csv(\"../../data/test_with_annotations.csv\")\n",
    "df = pd.concat([train_df, dev_df, test_df])              "
   ]
  },
  {
   "cell_type": "code",
   "execution_count": 4,
   "id": "d6c94f88",
   "metadata": {},
   "outputs": [],
   "source": [
    "import scipy.stats as stats\n",
    "import numpy as np\n",
    "\n",
    "def median_iqr(col):\n",
    "    df[col] = df[col].fillna(\"\")\n",
    "    lengths = df[col].str.len()\n",
    "    median = np.median(lengths)\n",
    "    q1 = np.percentile(lengths, 25)\n",
    "    q3 = np.percentile(lengths, 75)\n",
    "        \n",
    "    print(f\"median: {median} (Q1: {q1}, Q3: {q3})\")\n"
   ]
  },
  {
   "cell_type": "code",
   "execution_count": 11,
   "id": "2bb403b9",
   "metadata": {},
   "outputs": [
    {
     "data": {
      "text/plain": [
       "Index(['Question', 'Options', 'Answer', 'Explanation', 'Disease Group',\n",
       "       'Area of Competency', 'Clinical Department', 'Medical Discipline',\n",
       "       'Difficulty level'],\n",
       "      dtype='object')"
      ]
     },
     "execution_count": 11,
     "metadata": {},
     "output_type": "execute_result"
    }
   ],
   "source": [
    "df.columns"
   ]
  },
  {
   "cell_type": "code",
   "execution_count": 5,
   "id": "75403e4d",
   "metadata": {},
   "outputs": [
    {
     "name": "stdout",
     "output_type": "stream",
     "text": [
      "median: 147.0 (Q1: 70.0, Q3: 248.0)\n"
     ]
    }
   ],
   "source": [
    "median_iqr('Explanation')"
   ]
  },
  {
   "cell_type": "code",
   "execution_count": 9,
   "id": "592735a8",
   "metadata": {},
   "outputs": [
    {
     "data": {
      "text/plain": [
       "不符合                    2318\n",
       "补充章传统医学病证-模块1          1018\n",
       "消化系统疾病                  484\n",
       "某些感染性疾病或寄生虫病            414\n",
       "内分泌、营养或代谢疾病             386\n",
       "循环系统疾病                  384\n",
       "肿瘤                      225\n",
       "泌尿生殖系统疾病                210\n",
       "影响健康状态或与保健机构接触的因素       182\n",
       "呼吸系统疾病                  177\n",
       "神经系统疾病                  176\n",
       "肌肉骨骼系统或结缔组织疾病           137\n",
       "精神、行为或神经发育障碍            136\n",
       "损伤、中毒或外因的某些其他后果         129\n",
       "血液或造血器官疾病               120\n",
       "妊娠、分娩或产褥期               114\n",
       "免疫系统疾病                   43\n",
       "皮肤疾病                     33\n",
       "起源于围生期的某些情况              30\n",
       "发育异常                     22\n",
       "视觉系统疾病                   20\n",
       "症状、体征或临床所见，不可归类在他处者      19\n",
       "耳或乳突疾病                   15\n",
       "疾病或死亡的外因                  9\n",
       "用于特殊目的的编码                 4\n",
       "性健康相关情况                   3\n",
       "睡眠-觉醒障碍                   3\n",
       "Name: Disease Group, dtype: int64"
      ]
     },
     "execution_count": 9,
     "metadata": {},
     "output_type": "execute_result"
    }
   ],
   "source": [
    "df[\"Disease Group\"].value_counts()"
   ]
  },
  {
   "cell_type": "markdown",
   "id": "f91d334f",
   "metadata": {},
   "source": [
    "### Translate to English"
   ]
  },
  {
   "cell_type": "code",
   "execution_count": 16,
   "id": "fa25dbba",
   "metadata": {},
   "outputs": [],
   "source": [
    "translation_mapping = {\n",
    "    \"医学基础知识\": \"MedFund\",  # Medical Fundamentals\n",
    "    \"疾病诊断和鉴别诊断\": \"Diag\",  # Disease Diagnosis and Differential Diagnosis\n",
    "    \"疾病治疗\": \"Treat\",  # Disease Treatment\n",
    "    \"公卫法律伦理\": \"PHL\",  # Public Health Law and Ethics\n",
    "    \"不符合\": \"N/A\"  # Not Applicable\n",
    "}\n",
    "\n",
    "df['Area of Competency'] = df['Area of Competency'].map(translation_mapping)\n",
    "\n",
    "translation_mapping = {\n",
    "    \"临床医学\": \"ClinMed\",  # Clinical Medicine\n",
    "    \"口腔医学\": \"Dent\",  # Dentistry\n",
    "    \"公卫预防\": \"PH&PM\",  # Public Health and Preventive Medicine\n",
    "    \"中医学\": \"TCM\",  # Traditional Chinese Medicine\n",
    "    \"中西医结合\": \"ICWM\",  # Integrated Chinese and Western Medicine\n",
    "    \"药学\": \"Pharm\",  # Pharmacy\n",
    "    \"中药学\": \"TCPharm\"  # Traditional Chinese Pharmacy\n",
    "}\n",
    "\n",
    "df[\"Medical Discipline\"] = df[\"Medical Discipline\"].map(translation_mapping)\n",
    "\n",
    "translation_mapping = {\n",
    "    \"预防保健科\": \"PrevMed\",  # Preventive Medicine\n",
    "    \"全科医疗\": \"GenMed\",  # General Medicine\n",
    "    \"内科\": \"IM\",  # Internal Medicine\n",
    "    \"外科\": \"Surg\",  # Surgery\n",
    "    \"妇产科\": \"OBGYN\",  # Obstetrics and Gynecology\n",
    "    \"妇女保健\": \"WH\",  # Women's Health\n",
    "    \"儿科\": \"Ped\",  # Pediatrics\n",
    "    \"儿童外科\": \"PedSurg\",  # Pediatric Surgery\n",
    "    \"儿童保健科\": \"PedHC\",  # Pediatric Health Care\n",
    "    \"眼科\": \"Ophth\",  # Ophthalmology\n",
    "    \"耳鼻咽喉科\": \"ENT\",  # Otolaryngology\n",
    "    \"口腔科\": \"Dent\",  # Dentistry\n",
    "    \"皮肤科\": \"Derm\",  # Dermatology\n",
    "    \"精神科\": \"Psych\",  # Psychiatry\n",
    "    \"传染科\": \"ID\",  # Infectious Diseases\n",
    "    \"肿瘤科\": \"Onc\",  # Oncology\n",
    "    \"急诊医学科\": \"EM\",  # Emergency Medicine\n",
    "    \"中医科\": \"TCM\",  # Traditional Chinese Medicine\n",
    "    \"结核病科\": \"TB\",  # Tuberculosis\n",
    "    \"疼痛科\": \"PainMed\",  # Pain Medicine\n",
    "    \"医疗美容科\": \"AesthMed\",  # Aesthetic Medicine\n",
    "    \"地方病科\": \"EndemicD\",  # Endemic Disease\n",
    "    \"康复医学科\": \"RehabMed\",  # Rehabilitation Medicine\n",
    "    \"理疗科\": \"PT\",  # Physical Therapy\n",
    "    \"运动医学科\": \"SportsMed\",  # Sports Medicine\n",
    "    \"职业病科\": \"OccMed\",  # Occupational Medicine\n",
    "    \"特种医学与军事医学科\": \"SpecMed&MilMed\",  # Special Medical and Military Medicine\n",
    "    \"临终关怀科\": \"PallCare\",  # Palliative Care\n",
    "    \"临床营养科\": \"ClinNutr\",  # Clinical Nutrition\n",
    "    \"中西医结合科\": \"ITCWM\",  # Integrated Traditional Chinese and Western Medicine\n",
    "    \"民族医学科\": \"EthnoMed\",  # Ethnic Medicine\n",
    "    \"麻醉科\": \"Anesth\",  # Anesthesiology\n",
    "    \"医学检验科\": \"MedLabSci\",  # Medical Laboratory Science\n",
    "    \"病理科\": \"Path\",  # Pathology\n",
    "    \"医学影像科\": \"Radiol\",  # Radiology\n",
    "    \"重症医学科\": \"ICM\",  # Intensive Care Medicine\n",
    "    \"不符合\": \"N/A\"  # Not Applicable\n",
    "}\n",
    "\n",
    "df[\"Clinical Department\"] = df[\"Clinical Department\"].map(translation_mapping)\n"
   ]
  },
  {
   "cell_type": "code",
   "execution_count": 18,
   "id": "2bf5c5e1",
   "metadata": {},
   "outputs": [],
   "source": [
    "code_mapping = {\n",
    "    \"某些感染性疾病或寄生虫病\": \"01\",\n",
    "    \"肿瘤\": \"02\",\n",
    "    \"血液或造血器官疾病\": \"03\",\n",
    "    \"免疫系统疾病\": \"04\",\n",
    "    \"内分泌、营养或代谢疾病\": \"05\",\n",
    "    \"精神、行为或神经发育障碍\": \"06\",\n",
    "    \"睡眠-觉醒障碍\": \"07\",\n",
    "    \"神经系统疾病\": \"08\",\n",
    "    \"视觉系统疾病\": \"09\",\n",
    "    \"耳或乳突疾病\": \"10\",\n",
    "    \"循环系统疾病\": \"11\",\n",
    "    \"呼吸系统疾病\": \"12\",\n",
    "    \"消化系统疾病\": \"13\",\n",
    "    \"皮肤疾病\": \"14\",\n",
    "    \"肌肉骨骼系统或结缔组织疾病\": \"15\",\n",
    "    \"泌尿生殖系统疾病\": \"16\",\n",
    "    \"性健康相关情况\": \"17\",\n",
    "    \"妊娠、分娩或产褥期\": \"18\",\n",
    "    \"起源于围生期的某些情况\": \"19\",\n",
    "    \"发育异常\": \"20\",\n",
    "    \"症状、体征或临床所见，不可归类在他处者\": \"21\",\n",
    "    \"损伤、中毒或外因的某些其他后果\": \"22\",\n",
    "    \"疾病或死亡的外因\": \"23\",\n",
    "    \"影响健康状态或与保健机构接触的因素\": \"24\",\n",
    "    \"用于特殊目的的编码\": \"25\",\n",
    "    \"补充章传统医学病证-模块1\": \"26\",\n",
    "    \"功能评定补充部分\": \"V\",\n",
    "    \"扩展码\": \"X\",\n",
    "    \"不符合\": \"Not Applicable\"\n",
    "}\n",
    "\n",
    "# Create a new column for the mapped codes\n",
    "df[\"Disease Group\"] = df[\"Disease Group\"].map(code_mapping)\n",
    "\n",
    "medical_abbreviations = {\n",
    "    \"01\": \"InfDis\",  # Certain Infectious and Parasitic Diseases\n",
    "    \"02\": \"Neo\",  # Neoplasms\n",
    "    \"03\": \"Blood\",  # Diseases of the Blood or Hematopoietic Organs\n",
    "    \"04\": \"Immune\",  # Immune System Disorders\n",
    "    \"05\": \"Endo\",  # Endocrine, Nutritional, or Metabolic Diseases\n",
    "    \"06\": \"Psy\",  # Mental, Behavioral, or Neurodevelopmental Disorders\n",
    "    \"07\": \"Sleep\",  # Sleep-Wake Disorders\n",
    "    \"08\": \"Neuro\",  # Diseases of the Nervous System\n",
    "    \"09\": \"Vision\",  # Diseases of the Visual System\n",
    "    \"10\": \"Ear\",  # Ear or Mastoid Diseases\n",
    "    \"11\": \"Circ\",  # Circulatory System Diseases\n",
    "    \"12\": \"Resp\",  # Respiratory System Diseases\n",
    "    \"13\": \"Digest\",  # Digestive System Diseases\n",
    "    \"14\": \"Skin\",  # Skin Diseases\n",
    "    \"15\": \"MSK\",  # Diseases of the Musculoskeletal System or Connective Tissue\n",
    "    \"16\": \"GU\",  # Diseases of the Genitourinary System\n",
    "    \"17\": \"Sex\",  # Sexual Health-Related Conditions\n",
    "    \"18\": \"OBST\",  # Pregnancy, Childbirth, or Puerperium\n",
    "    \"19\": \"Peri\",  # Conditions Originating in the Perinatal Period\n",
    "    \"20\": \"Dev\",  # Developmental Abnormalities\n",
    "    \"21\": \"Sym\",  # Symptoms, Signs, or Clinical Findings, not elsewhere classified\n",
    "    \"22\": \"Inj\",  # Sequelae of Injury, Poisoning, or Other External Causes\n",
    "    \"23\": \"Ext\",  # External Causes of Morbidity or Mortality\n",
    "    \"24\": \"Factors\",  # Factors Influencing Health Status or Contact with Health Services\n",
    "    \"25\": \"SpecPurp\",  # Codes for special purposes\n",
    "    \"26\": \"TMDP\",  # Supplementary Chapter - Traditional Medicine Disease Patterns - Module 1\n",
    "    \"V\": \"FuncAssess\",  # Function Assessment Supplement\n",
    "    \"X\": \"ExtCodes\",  # Extension Codes\n",
    "    \"Not Applicable\": \"N/A\"\n",
    "}\n",
    "\n",
    "df[\"Disease Group\"] = df[\"Disease Group\"].map(medical_abbreviations)\n"
   ]
  },
  {
   "cell_type": "code",
   "execution_count": 19,
   "id": "1951f6b6",
   "metadata": {},
   "outputs": [
    {
     "data": {
      "text/plain": [
       "N/A         2318\n",
       "TMDP        1018\n",
       "Digest       484\n",
       "InfDis       414\n",
       "Endo         386\n",
       "Circ         384\n",
       "Neo          225\n",
       "GU           210\n",
       "Factors      182\n",
       "Resp         177\n",
       "Neuro        176\n",
       "MSK          137\n",
       "Psy          136\n",
       "Inj          129\n",
       "Blood        120\n",
       "OBST         114\n",
       "Immune        43\n",
       "Skin          33\n",
       "Peri          30\n",
       "Dev           22\n",
       "Vision        20\n",
       "Sym           19\n",
       "Ear           15\n",
       "Ext            9\n",
       "SpecPurp       4\n",
       "Sex            3\n",
       "Sleep          3\n",
       "Name: Disease Group, dtype: int64"
      ]
     },
     "execution_count": 19,
     "metadata": {},
     "output_type": "execute_result"
    }
   ],
   "source": [
    "\n",
    "df[\"Disease Group\"].value_counts()"
   ]
  },
  {
   "cell_type": "code",
   "execution_count": 21,
   "id": "b255968e",
   "metadata": {},
   "outputs": [
    {
     "data": {
      "text/plain": [
       "N/A               1846\n",
       "IM                1200\n",
       "TCM               1095\n",
       "Dent               506\n",
       "Surg               473\n",
       "OBGYN              270\n",
       "ID                 262\n",
       "Ped                202\n",
       "Psych              140\n",
       "Onc                135\n",
       "MedLabSci          107\n",
       "EM                  89\n",
       "OccMed              65\n",
       "PrevMed             62\n",
       "ClinNutr            60\n",
       "TB                  40\n",
       "Radiol              36\n",
       "Ophth               29\n",
       "ENT                 25\n",
       "Derm                25\n",
       "Path                23\n",
       "PedHC               20\n",
       "WH                  16\n",
       "SportsMed           15\n",
       "Anesth              15\n",
       "ITCWM               10\n",
       "EndemicD             9\n",
       "PainMed              8\n",
       "GenMed               5\n",
       "PallCare             5\n",
       "PedSurg              4\n",
       "EthnoMed             3\n",
       "SpecMed&MilMed       3\n",
       "ICM                  3\n",
       "AesthMed             3\n",
       "RehabMed             2\n",
       "Name: Clinical Department, dtype: int64"
      ]
     },
     "execution_count": 21,
     "metadata": {},
     "output_type": "execute_result"
    }
   ],
   "source": [
    "df[\"Clinical Department\"].value_counts()"
   ]
  },
  {
   "cell_type": "code",
   "execution_count": 27,
   "id": "84a30964",
   "metadata": {},
   "outputs": [
    {
     "data": {
      "text/plain": [
       "ClinMed    2529\n",
       "TCPharm     926\n",
       "Pharm       909\n",
       "PH&PM       887\n",
       "Dent        830\n",
       "ICWM        445\n",
       "TCM         285\n",
       "Name: Medical Discipline, dtype: int64"
      ]
     },
     "execution_count": 27,
     "metadata": {},
     "output_type": "execute_result"
    }
   ],
   "source": [
    "df['Medical Discipline'].value_counts()"
   ]
  },
  {
   "cell_type": "code",
   "execution_count": 22,
   "id": "4ac36909",
   "metadata": {},
   "outputs": [
    {
     "data": {
      "text/plain": [
       "1.0    2385\n",
       "2.0    2141\n",
       "3.0    1500\n",
       "4.0     654\n",
       "5.0     131\n",
       "Name: Difficulty level, dtype: int64"
      ]
     },
     "execution_count": 22,
     "metadata": {},
     "output_type": "execute_result"
    }
   ],
   "source": [
    "df['Difficulty level'].value_counts()"
   ]
  },
  {
   "cell_type": "code",
   "execution_count": 29,
   "id": "663e63f2",
   "metadata": {},
   "outputs": [
    {
     "data": {
      "text/plain": [
       "MedFund    2897\n",
       "Diag       1630\n",
       "Treat      1308\n",
       "PHL         931\n",
       "N/A          45\n",
       "Name: Area of Competency, dtype: int64"
      ]
     },
     "execution_count": 29,
     "metadata": {},
     "output_type": "execute_result"
    }
   ],
   "source": [
    "df['Area of Competency'].value_counts()"
   ]
  },
  {
   "cell_type": "code",
   "execution_count": 84,
   "id": "55399ea0",
   "metadata": {},
   "outputs": [
    {
     "data": {
      "text/plain": [
       "Easy             23082\n",
       "Managable        21286\n",
       "Moderate         15273\n",
       "Difficult         7003\n",
       "Ex. difficult     1475\n",
       "Name: Difficulty level, dtype: int64"
      ]
     },
     "execution_count": 84,
     "metadata": {},
     "output_type": "execute_result"
    }
   ],
   "source": [
    "df['Difficulty level'] = pd.cut(df['正确率'], bins=5, labels=[\"Ex. difficult\", \"Difficult\", \"Moderate\", \"Managable\", \"Easy\"])\n",
    "df['Difficulty level'].value_counts()"
   ]
  },
  {
   "cell_type": "code",
   "execution_count": 24,
   "id": "db44e826",
   "metadata": {},
   "outputs": [
    {
     "data": {
      "text/plain": [
       "1.0    65950\n",
       "3.0      789\n",
       "4.0      647\n",
       "2.0      446\n",
       "5.0      286\n",
       "Name: answer len, dtype: int64"
      ]
     },
     "execution_count": 24,
     "metadata": {},
     "output_type": "execute_result"
    }
   ],
   "source": [
    "df[\"answer len\"] = df['Answer'].str.len()\n",
    "df[\"answer len\"].value_counts()\n"
   ]
  },
  {
   "cell_type": "code",
   "execution_count": 25,
   "id": "1e0507d3",
   "metadata": {},
   "outputs": [
    {
     "data": {
      "text/plain": [
       "676"
      ]
     },
     "execution_count": 25,
     "metadata": {},
     "output_type": "execute_result"
    }
   ],
   "source": [
    "import matplotlib.pyplot as plt\n",
    "\n",
    "df['title_length'] = df['Question'].apply(lambda x: len(x))\n",
    "df['Question length'] = df['title_length']\n",
    "df['Question length'].max()\n"
   ]
  },
  {
   "cell_type": "code",
   "execution_count": 30,
   "id": "2856bbef",
   "metadata": {},
   "outputs": [
    {
     "data": {
      "image/png": "[encoded data removed]",
      "text/plain": [
       "<Figure size 1152x576 with 6 Axes>"
      ]
     },
     "metadata": {
      "needs_background": "light"
     },
     "output_type": "display_data"
    }
   ],
   "source": [
    "import pandas as pd\n",
    "import matplotlib.pyplot as plt\n",
    "\n",
    "columns = [\"Question length\", 'Disease Group', 'Clinical Department',\n",
    "           'Medical Discipline', 'Area of Competency', 'Difficulty level']\n",
    "\n",
    "fig, axs = plt.subplots(2, 3, figsize=(16, 8))\n",
    "\n",
    "axs = axs.flatten()\n",
    "colors_I = ['#e9b4a2', '#6c9595', '#c9d6d1', '#e8be75', '#a2c4c9', '#d5e8d2', '#b7d2e8', '#e6b4e8']\n",
    "\n",
    "for i, column in enumerate(columns):\n",
    "\n",
    "    if i == 0:\n",
    "        axs[i].set_title(f'{column} within IQR')\n",
    "        question_lengths = df[column]\n",
    "\n",
    "        # Calculating the quartiles and IQR\n",
    "        q1 = np.percentile(question_lengths, 25)\n",
    "        q3 = np.percentile(question_lengths, 75)\n",
    "        iqr = q3 - q1\n",
    "\n",
    "        # Filtering the column based on the IQR\n",
    "        filtered_lengths = question_lengths[(question_lengths >= q1 - 1.5 * iqr) & (question_lengths <= q3 + 1.5 * iqr)]\n",
    "\n",
    "        axs[i].hist(filtered_lengths, bins=len(np.unique(filtered_lengths)), color='#df979e')\n",
    "        axs[i].tick_params(axis='x', rotation=30)\n",
    "        axs[i].set_xticks(range(0, max(filtered_lengths) + 5, 5))\n",
    "\n",
    "        continue\n",
    "    axs[i].set_title(f'{column}')\n",
    "\n",
    "    value_counts = df[df[column] != \"N/A\"][column].value_counts()\n",
    "\n",
    "    total_population = value_counts.sum()\n",
    "    filtered_counts = value_counts\n",
    "    if i == 1 or i == 2:\n",
    "        axs[i].tick_params(axis='x', rotation=90)\n",
    "    elif i in [3, 5]:\n",
    "        axs[i].tick_params(axis='x', rotation=20)\n",
    "\n",
    "    # Pie chart\n",
    "    if i in [3, 4, 5]:\n",
    "        filtered_counts = filtered_counts.sort_values(ascending=False)\n",
    "        wedges, _, autotexts = axs[i].pie(filtered_counts.values, labels=filtered_counts.index, colors=colors_I,\n",
    "                                          autopct='%1.1f%%', startangle=90)\n",
    "        axs[i].axis('equal')\n",
    "\n",
    "        # Adding exact numbers under percentages\n",
    "        for index, autotext in enumerate(autotexts):\n",
    "            autotext.set_fontsize(10)\n",
    "\n",
    "            # Calculating the percentage and corresponding count\n",
    "            percentage = float(autotext.get_text().strip('%'))\n",
    "            count = round((percentage / 100) * total_population)\n",
    "\n",
    "            autotext.set_text(f'{percentage:.1f}%\\n({count})')\n",
    "\n",
    "    else:\n",
    "        axs[i].bar(filtered_counts.index, filtered_counts.values, color='#df979e')\n",
    "\n",
    "axs[1].tick_params(axis='x', labelsize=9)  # Modify labelsize as desired\n",
    "axs[2].tick_params(axis='x', labelsize=9)  # Modify labelsize as desired\n",
    "axs[3].tick_params(axis='x', labelsize=12)  # Modify labelsize as desired\n",
    "axs[4].tick_params(axis='x', labelsize=12)  # Modify labelsize as desired\n",
    "axs[5].tick_params(axis='x', labelsize=12)  # Modify labelsize as desired\n",
    "\n",
    "plt.tight_layout()\n",
    "plt.savefig('dataset_dist.pdf')  # Adjust the DPI value as desired\n",
    "plt.show()\n"
   ]
  },
  {
   "cell_type": "code",
   "execution_count": 31,
   "id": "ad3d8b61",
   "metadata": {},
   "outputs": [
    {
     "data": {
      "image/png": "[encoded data removed]",
      "text/plain": [
       "<Figure size 1008x288 with 2 Axes>"
      ]
     },
     "metadata": {
      "needs_background": "light"
     },
     "output_type": "display_data"
    }
   ],
   "source": [
    "import pandas as pd\n",
    "import matplotlib.pyplot as plt\n",
    "import matplotlib\n",
    "from matplotlib import rcParams\n",
    "rcParams['font.family'] = 'sans-serif'\n",
    "rcParams['font.sans-serif'] = ['Arial']\n",
    "rcParams['pdf.fonttype'] = 42\n",
    "rcParams['ps.fonttype'] = 42\n",
    "rcParams[\"mathtext.fontset\"] = 'dejavusans'\n",
    "matplotlib.rcParams['font.size'] = 12  # Adjust the font size as desired\n",
    "\n",
    "columns = ['Disease Group', 'Clinical Department']\n",
    "\n",
    "fig, axs = plt.subplots(1, 2, figsize=(14, 4))\n",
    "\n",
    "axs = axs.flatten()\n",
    "\n",
    "for i, column in enumerate(columns):\n",
    "    axs[i].set_title(f'{column}')\n",
    "\n",
    "    value_counts = df[df[column] != \"N/A\"][column].value_counts()\n",
    "\n",
    "    total_population = value_counts.sum()\n",
    "    filtered_counts = value_counts\n",
    "    axs[i].tick_params(axis='x', rotation=90)\n",
    "\n",
    "    axs[i].bar(filtered_counts.index, filtered_counts.values, color='#df979e')\n",
    "\n",
    "axs[0].tick_params(axis='x', labelsize=12)  # Modify labelsize as desired\n",
    "axs[0].tick_params(axis='x', labelsize=12)  # Modify labelsize as desired\n",
    "\n",
    "plt.tight_layout()\n",
    "plt.savefig('dataset_dist.pdf', dpi=300)  # Adjust the DPI value as desired\n",
    "plt.show()\n"
   ]
  },
  {
   "cell_type": "code",
   "execution_count": null,
   "id": "52589309",
   "metadata": {},
   "outputs": [],
   "source": []
  },
  {
   "cell_type": "code",
   "execution_count": 47,
   "id": "3e710c5b",
   "metadata": {},
   "outputs": [
    {
     "data": {
      "text/html": [
       "<div>\n",
       "<style scoped>\n",
       "    .dataframe tbody tr th:only-of-type {\n",
       "        vertical-align: middle;\n",
       "    }\n",
       "\n",
       "    .dataframe tbody tr th {\n",
       "        vertical-align: top;\n",
       "    }\n",
       "\n",
       "    .dataframe thead th {\n",
       "        text-align: right;\n",
       "    }\n",
       "</style>\n",
       "<table border=\"1\" class=\"dataframe\">\n",
       "  <thead>\n",
       "    <tr style=\"text-align: right;\">\n",
       "      <th></th>\n",
       "      <th>Train</th>\n",
       "      <th>Dev</th>\n",
       "      <th>Test</th>\n",
       "      <th>Total</th>\n",
       "    </tr>\n",
       "  </thead>\n",
       "  <tbody>\n",
       "    <tr>\n",
       "      <th>Question #</th>\n",
       "      <td>54,497</td>\n",
       "      <td>6,811</td>\n",
       "      <td>6,811</td>\n",
       "      <td>68,119</td>\n",
       "    </tr>\n",
       "    <tr>\n",
       "      <th>Vocab</th>\n",
       "      <td>4545</td>\n",
       "      <td>3620</td>\n",
       "      <td>3599</td>\n",
       "      <td>4629</td>\n",
       "    </tr>\n",
       "    <tr>\n",
       "      <th>Max Q tokens</th>\n",
       "      <td>676</td>\n",
       "      <td>500</td>\n",
       "      <td>585</td>\n",
       "      <td>676</td>\n",
       "    </tr>\n",
       "    <tr>\n",
       "      <th>Max A tokens</th>\n",
       "      <td>5</td>\n",
       "      <td>5</td>\n",
       "      <td>5</td>\n",
       "      <td>5</td>\n",
       "    </tr>\n",
       "    <tr>\n",
       "      <th>Max E tokens</th>\n",
       "      <td>2999</td>\n",
       "      <td>2678</td>\n",
       "      <td>2680</td>\n",
       "      <td>2999</td>\n",
       "    </tr>\n",
       "    <tr>\n",
       "      <th>Avg Q tokens</th>\n",
       "      <td>29.78</td>\n",
       "      <td>30.07</td>\n",
       "      <td>32.63</td>\n",
       "      <td>30.83</td>\n",
       "    </tr>\n",
       "    <tr>\n",
       "      <th>Avg A tokens</th>\n",
       "      <td>1.08</td>\n",
       "      <td>1.07</td>\n",
       "      <td>1.07</td>\n",
       "      <td>1.07</td>\n",
       "    </tr>\n",
       "    <tr>\n",
       "      <th>Avg E tokens</th>\n",
       "      <td>186.24</td>\n",
       "      <td>188.95</td>\n",
       "      <td>201.44</td>\n",
       "      <td>192.21</td>\n",
       "    </tr>\n",
       "    <tr>\n",
       "      <th>Median (Q1, Q3) Q tokens</th>\n",
       "      <td>17.0 (12.0, 32.0)</td>\n",
       "      <td>18.0 (12.0, 32.0)</td>\n",
       "      <td>18.0 (12.0, 37.0)</td>\n",
       "      <td>18.0 (12.0, 32.0)</td>\n",
       "    </tr>\n",
       "    <tr>\n",
       "      <th>Median (Q1, Q3) A tokens</th>\n",
       "      <td>1.0 (1.0, 1.0)</td>\n",
       "      <td>1.0 (1.0, 1.0)</td>\n",
       "      <td>1.0 (1.0, 1.0)</td>\n",
       "      <td>1.0 (1.0, 1.0)</td>\n",
       "    </tr>\n",
       "    <tr>\n",
       "      <th>Median (Q1, Q3) E tokens</th>\n",
       "      <td>146.0 (69.0, 246.0)</td>\n",
       "      <td>143.0 (65.0, 247.0)</td>\n",
       "      <td>158.0 (80.0, 263.0)</td>\n",
       "      <td>146.0 (69.0, 247.0)</td>\n",
       "    </tr>\n",
       "  </tbody>\n",
       "</table>\n",
       "</div>"
      ],
      "text/plain": [
       "                                        Train                  Dev  \\\n",
       "Question #                             54,497                6,811   \n",
       "Vocab                                    4545                 3620   \n",
       "Max Q tokens                              676                  500   \n",
       "Max A tokens                                5                    5   \n",
       "Max E tokens                             2999                 2678   \n",
       "Avg Q tokens                            29.78                30.07   \n",
       "Avg A tokens                             1.08                 1.07   \n",
       "Avg E tokens                           186.24               188.95   \n",
       "Median (Q1, Q3) Q tokens    17.0 (12.0, 32.0)    18.0 (12.0, 32.0)   \n",
       "Median (Q1, Q3) A tokens       1.0 (1.0, 1.0)       1.0 (1.0, 1.0)   \n",
       "Median (Q1, Q3) E tokens  146.0 (69.0, 246.0)  143.0 (65.0, 247.0)   \n",
       "\n",
       "                                         Test                Total  \n",
       "Question #                              6,811               68,119  \n",
       "Vocab                                    3599                 4629  \n",
       "Max Q tokens                              585                  676  \n",
       "Max A tokens                                5                    5  \n",
       "Max E tokens                             2680                 2999  \n",
       "Avg Q tokens                            32.63                30.83  \n",
       "Avg A tokens                             1.07                 1.07  \n",
       "Avg E tokens                           201.44               192.21  \n",
       "Median (Q1, Q3) Q tokens    18.0 (12.0, 37.0)    18.0 (12.0, 32.0)  \n",
       "Median (Q1, Q3) A tokens       1.0 (1.0, 1.0)       1.0 (1.0, 1.0)  \n",
       "Median (Q1, Q3) E tokens  158.0 (80.0, 263.0)  146.0 (69.0, 247.0)  "
      ]
     },
     "execution_count": 47,
     "metadata": {},
     "output_type": "execute_result"
    }
   ],
   "source": [
    "import pandas as pd\n",
    "import numpy as np\n",
    "\n",
    "# Creating a dictionary to store the statistics\n",
    "stats = {\n",
    "    'Train': {},\n",
    "    'Test': {},\n",
    "    'Dev': {},\n",
    "    'Total': {}\n",
    "}\n",
    "\n",
    "total_vocab = set()\n",
    "\n",
    "train_df = train_df.fillna(\"\")\n",
    "test_df = test_df.fillna(\"\")   \n",
    "dev_df = dev_df.fillna(\"\")\n",
    "\n",
    "# Calculating the statistics for each dataframe\n",
    "for name, df in zip(['Train', 'Test', 'Dev'], [train_df, test_df, dev_df]):\n",
    "    stats[name]['Question #'] = f\"{len(df):,}\"\n",
    "\n",
    "    answer_explanation_chars = set(\"\".join(df[\"Explanation\"].astype(str).tolist()))\n",
    "    title_chars = set(\"\".join(df[\"Question\"].tolist()))\n",
    "    vocabulary = answer_explanation_chars.union(title_chars)\n",
    "    total_vocab = total_vocab.union(vocabulary)\n",
    "    vocab_size = len(vocabulary)\n",
    "    stats[name]['Vocab'] = vocab_size\n",
    "    \n",
    "    stats[name]['Max Q tokens'] = df['Question'].apply(len).max()\n",
    "    stats[name]['Max A tokens'] = df['Answer'].apply(len).max()\n",
    "    stats[name]['Max E tokens'] = df['Explanation'].apply(len).max()\n",
    "    \n",
    "    stats[name]['Avg Q tokens'] = df['Question'].apply(len).mean().round(2)\n",
    "    stats[name]['Avg A tokens'] = df['Answer'].apply(len).mean().round(2)\n",
    "    stats[name]['Avg E tokens'] = df['Explanation'].apply(len).mean().round(2)\n",
    "    \n",
    "    stats[name]['Median (Q1, Q3) Q tokens'] = f\"{df['Question'].apply(len).median()} ({df['Question'].apply(len).quantile(0.25)}, {df['Question'].apply(len).quantile(0.75)})\"\n",
    "    stats[name]['Median (Q1, Q3) A tokens'] = f\"{df['Answer'].apply(len).median()} ({df['Answer'].apply(len).quantile(0.25)}, {df['Answer'].apply(len).quantile(0.75)})\"\n",
    "    stats[name]['Median (Q1, Q3) E tokens'] = f\"{df['Explanation'].apply(len).median()} ({df['Explanation'].apply(len).quantile(0.25)}, {df['Explanation'].apply(len).quantile(0.75)})\"\n",
    "    \n",
    "# Calculating the total statistics\n",
    "stats['Total']['Question #'] = f\"{sum(len(df) for df in [train_df, test_df, dev_df]):,}\"\n",
    "stats['Total']['Vocab'] = len(total_vocab)\n",
    "stats['Total']['Max Q tokens'] = max(df['Question'].apply(len).max() for df in [train_df, test_df, dev_df])\n",
    "stats['Total']['Max A tokens'] = max(df['Answer'].apply(len).max() for df in [train_df, test_df, dev_df])\n",
    "stats['Total']['Max E tokens'] = max(df['Explanation'].apply(len).max() for df in [train_df, test_df, dev_df])\n",
    "stats['Total']['Avg Q tokens'] = round(sum(df['Question'].apply(len).mean() for df in [train_df, test_df, dev_df]) / 3, 2)\n",
    "stats['Total']['Avg A tokens'] = round(sum(df['Answer'].apply(len).mean() for df in [train_df, test_df, dev_df]) / 3, 2)\n",
    "stats['Total']['Avg E tokens'] = round(sum(df['Explanation'].apply(len).mean() for df in [train_df, test_df, dev_df]) / 3, 2)\n",
    "\n",
    "stats['Total']['Median (Q1, Q3) Q tokens'] = f\"{np.median([df['Question'].apply(len).median() for df in [train_df, test_df, dev_df]])} ({np.median([df['Question'].apply(len).quantile(0.25) for df in [train_df, test_df, dev_df]])}, {np.median([df['Question'].apply(len).quantile(0.75) for df in [train_df, test_df, dev_df]])})\"\n",
    "stats['Total']['Median (Q1, Q3) A tokens'] = f\"{np.median([df['Answer'].apply(len).median() for df in [train_df, test_df, dev_df]])} ({np.median([df['Answer'].apply(len).quantile(0.25) for df in [train_df, test_df, dev_df]])}, {np.median([df['Answer'].apply(len).quantile(0.75) for df in [train_df, test_df, dev_df]])})\"\n",
    "stats['Total']['Median (Q1, Q3) E tokens'] = f\"{np.median([df['Explanation'].apply(len).median() for df in [train_df, test_df, dev_df]])} ({np.median([df['Explanation'].apply(len).quantile(0.25) for df in [train_df, test_df, dev_df]])}, {np.median([df['Explanation'].apply(len).quantile(0.75) for df in [train_df, test_df, dev_df]])})\"\n",
    "\n",
    "# Creating a DataFrame from the statistics dictionary\n",
    "summary_table = pd.DataFrame(stats)\n",
    "\n",
    "# Reordering the columns to match the desired order\n",
    "summary_table = summary_table[['Train', 'Dev', 'Test', 'Total']]\n",
    "\n",
    "# Displaying the summary table\n",
    "summary_table\n"
   ]
  },
  {
   "cell_type": "code",
   "execution_count": null,
   "id": "e3585245",
   "metadata": {},
   "outputs": [],
   "source": []
  }
 ],
 "metadata": {
  "kernelspec": {
   "display_name": "Python 3",
   "language": "python",
   "name": "python3"
  },
  "language_info": {
   "codemirror_mode": {
    "name": "ipython",
    "version": 3
   },
   "file_extension": ".py",
   "mimetype": "text/x-python",
   "name": "python",
   "nbconvert_exporter": "python",
   "pygments_lexer": "ipython3",
   "version": "3.8.5"
  }
 },
 "nbformat": 4,
 "nbformat_minor": 5
}
